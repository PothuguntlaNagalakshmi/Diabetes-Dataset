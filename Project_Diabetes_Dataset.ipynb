{
 "cells": [
  {
   "cell_type": "markdown",
   "id": "4627cd47",
   "metadata": {},
   "source": [
    "### Project on Diabetes dataset:"
   ]
  },
  {
   "cell_type": "markdown",
   "id": "11fe3b01",
   "metadata": {},
   "source": [
    "Pima Indians Diabetes Database Descriptive Statistics Project:\n",
    "\n",
    "  Predict the onset of diabetes based on diagnostic measures. This dataset is originally from the National Institute of Diabetes and Digestive and Kidney Diseases. The objective of the dataset is to diagnostically predict whether a patient has diabetes, based on certain diagnostic measurements included in the dataset.\n",
    "\n",
    "\n",
    "Columns of the dataset:\n",
    "\n",
    "1.Pregnancies: Number of times pregnant\n",
    "\n",
    "2.Glucose: Plasma glucose concentration 2 hours in an oral glucose tolerance test\n",
    "\n",
    "3.Blood Pressure: Diastolic blood pressure (mm Hg)\n",
    "\n",
    "4.Skin Thickness: Triceps skin fold thickness (mm)\n",
    "\n",
    "5.Insulin: 2-Hour serum insulin (mu U/ml)\n",
    "\n",
    "6.BMI: Body mass index (weight in kg/(height in m)^2)\n",
    "\n",
    "7.Diabetes Pedigree Function: Diabetes pedigree function\n",
    "\n",
    "8.Age: Age (years)\n",
    "\n",
    "9.Outcome: Class variable (0 or 1) 0 mean non-diabetic and 1 means diabetic"
   ]
  },
  {
   "cell_type": "code",
   "execution_count": 5,
   "id": "a22b99b2",
   "metadata": {},
   "outputs": [],
   "source": [
    "#Importing necessary libraries\n",
    "\n",
    "import numpy as np\n",
    "import pandas as pd\n",
    "import matplotlib.pyplot as plt\n",
    "import seaborn as sns"
   ]
  },
  {
   "cell_type": "code",
   "execution_count": 6,
   "id": "b118bee8",
   "metadata": {},
   "outputs": [
    {
     "data": {
      "text/html": [
       "<div>\n",
       "<style scoped>\n",
       "    .dataframe tbody tr th:only-of-type {\n",
       "        vertical-align: middle;\n",
       "    }\n",
       "\n",
       "    .dataframe tbody tr th {\n",
       "        vertical-align: top;\n",
       "    }\n",
       "\n",
       "    .dataframe thead th {\n",
       "        text-align: right;\n",
       "    }\n",
       "</style>\n",
       "<table border=\"1\" class=\"dataframe\">\n",
       "  <thead>\n",
       "    <tr style=\"text-align: right;\">\n",
       "      <th></th>\n",
       "      <th>Pregnancies</th>\n",
       "      <th>Glucose</th>\n",
       "      <th>BloodPressure</th>\n",
       "      <th>SkinThickness</th>\n",
       "      <th>Insulin</th>\n",
       "      <th>BMI</th>\n",
       "      <th>DiabetesPedigreeFunction</th>\n",
       "      <th>Age</th>\n",
       "      <th>Outcome</th>\n",
       "    </tr>\n",
       "  </thead>\n",
       "  <tbody>\n",
       "    <tr>\n",
       "      <th>0</th>\n",
       "      <td>6</td>\n",
       "      <td>148</td>\n",
       "      <td>72</td>\n",
       "      <td>35</td>\n",
       "      <td>0</td>\n",
       "      <td>33.6</td>\n",
       "      <td>0.627</td>\n",
       "      <td>50</td>\n",
       "      <td>1</td>\n",
       "    </tr>\n",
       "    <tr>\n",
       "      <th>1</th>\n",
       "      <td>1</td>\n",
       "      <td>85</td>\n",
       "      <td>66</td>\n",
       "      <td>29</td>\n",
       "      <td>0</td>\n",
       "      <td>26.6</td>\n",
       "      <td>0.351</td>\n",
       "      <td>31</td>\n",
       "      <td>0</td>\n",
       "    </tr>\n",
       "    <tr>\n",
       "      <th>2</th>\n",
       "      <td>8</td>\n",
       "      <td>183</td>\n",
       "      <td>64</td>\n",
       "      <td>0</td>\n",
       "      <td>0</td>\n",
       "      <td>23.3</td>\n",
       "      <td>0.672</td>\n",
       "      <td>32</td>\n",
       "      <td>1</td>\n",
       "    </tr>\n",
       "    <tr>\n",
       "      <th>3</th>\n",
       "      <td>1</td>\n",
       "      <td>89</td>\n",
       "      <td>66</td>\n",
       "      <td>23</td>\n",
       "      <td>94</td>\n",
       "      <td>28.1</td>\n",
       "      <td>0.167</td>\n",
       "      <td>21</td>\n",
       "      <td>0</td>\n",
       "    </tr>\n",
       "    <tr>\n",
       "      <th>4</th>\n",
       "      <td>0</td>\n",
       "      <td>137</td>\n",
       "      <td>40</td>\n",
       "      <td>35</td>\n",
       "      <td>168</td>\n",
       "      <td>43.1</td>\n",
       "      <td>2.288</td>\n",
       "      <td>33</td>\n",
       "      <td>1</td>\n",
       "    </tr>\n",
       "    <tr>\n",
       "      <th>...</th>\n",
       "      <td>...</td>\n",
       "      <td>...</td>\n",
       "      <td>...</td>\n",
       "      <td>...</td>\n",
       "      <td>...</td>\n",
       "      <td>...</td>\n",
       "      <td>...</td>\n",
       "      <td>...</td>\n",
       "      <td>...</td>\n",
       "    </tr>\n",
       "    <tr>\n",
       "      <th>763</th>\n",
       "      <td>10</td>\n",
       "      <td>101</td>\n",
       "      <td>76</td>\n",
       "      <td>48</td>\n",
       "      <td>180</td>\n",
       "      <td>32.9</td>\n",
       "      <td>0.171</td>\n",
       "      <td>63</td>\n",
       "      <td>0</td>\n",
       "    </tr>\n",
       "    <tr>\n",
       "      <th>764</th>\n",
       "      <td>2</td>\n",
       "      <td>122</td>\n",
       "      <td>70</td>\n",
       "      <td>27</td>\n",
       "      <td>0</td>\n",
       "      <td>36.8</td>\n",
       "      <td>0.340</td>\n",
       "      <td>27</td>\n",
       "      <td>0</td>\n",
       "    </tr>\n",
       "    <tr>\n",
       "      <th>765</th>\n",
       "      <td>5</td>\n",
       "      <td>121</td>\n",
       "      <td>72</td>\n",
       "      <td>23</td>\n",
       "      <td>112</td>\n",
       "      <td>26.2</td>\n",
       "      <td>0.245</td>\n",
       "      <td>30</td>\n",
       "      <td>0</td>\n",
       "    </tr>\n",
       "    <tr>\n",
       "      <th>766</th>\n",
       "      <td>1</td>\n",
       "      <td>126</td>\n",
       "      <td>60</td>\n",
       "      <td>0</td>\n",
       "      <td>0</td>\n",
       "      <td>30.1</td>\n",
       "      <td>0.349</td>\n",
       "      <td>47</td>\n",
       "      <td>1</td>\n",
       "    </tr>\n",
       "    <tr>\n",
       "      <th>767</th>\n",
       "      <td>1</td>\n",
       "      <td>93</td>\n",
       "      <td>70</td>\n",
       "      <td>31</td>\n",
       "      <td>0</td>\n",
       "      <td>30.4</td>\n",
       "      <td>0.315</td>\n",
       "      <td>23</td>\n",
       "      <td>0</td>\n",
       "    </tr>\n",
       "  </tbody>\n",
       "</table>\n",
       "<p>768 rows × 9 columns</p>\n",
       "</div>"
      ],
      "text/plain": [
       "     Pregnancies  Glucose  BloodPressure  SkinThickness  Insulin   BMI  \\\n",
       "0              6      148             72             35        0  33.6   \n",
       "1              1       85             66             29        0  26.6   \n",
       "2              8      183             64              0        0  23.3   \n",
       "3              1       89             66             23       94  28.1   \n",
       "4              0      137             40             35      168  43.1   \n",
       "..           ...      ...            ...            ...      ...   ...   \n",
       "763           10      101             76             48      180  32.9   \n",
       "764            2      122             70             27        0  36.8   \n",
       "765            5      121             72             23      112  26.2   \n",
       "766            1      126             60              0        0  30.1   \n",
       "767            1       93             70             31        0  30.4   \n",
       "\n",
       "     DiabetesPedigreeFunction  Age  Outcome  \n",
       "0                       0.627   50        1  \n",
       "1                       0.351   31        0  \n",
       "2                       0.672   32        1  \n",
       "3                       0.167   21        0  \n",
       "4                       2.288   33        1  \n",
       "..                        ...  ...      ...  \n",
       "763                     0.171   63        0  \n",
       "764                     0.340   27        0  \n",
       "765                     0.245   30        0  \n",
       "766                     0.349   47        1  \n",
       "767                     0.315   23        0  \n",
       "\n",
       "[768 rows x 9 columns]"
      ]
     },
     "execution_count": 6,
     "metadata": {},
     "output_type": "execute_result"
    }
   ],
   "source": [
    "#Reading the diabetes dataset\n",
    "Diabetes_dataset= pd.read_csv(\"diabetes.csv\")\n",
    "Diabetes_dataset\n"
   ]
  },
  {
   "cell_type": "markdown",
   "id": "4bab1f42",
   "metadata": {},
   "source": [
    "#### Basic exploration of dataset and checking missing values, number of rows and columns and data types in statistical term"
   ]
  },
  {
   "cell_type": "code",
   "execution_count": 7,
   "id": "92bf41f4",
   "metadata": {},
   "outputs": [
    {
     "data": {
      "text/plain": [
       "(768, 9)"
      ]
     },
     "execution_count": 7,
     "metadata": {},
     "output_type": "execute_result"
    }
   ],
   "source": [
    "#getting number of rows and columns\n",
    "Diabetes_dataset.shape"
   ]
  },
  {
   "cell_type": "code",
   "execution_count": 8,
   "id": "cfc88931",
   "metadata": {},
   "outputs": [
    {
     "name": "stdout",
     "output_type": "stream",
     "text": [
      "<class 'pandas.core.frame.DataFrame'>\n",
      "RangeIndex: 768 entries, 0 to 767\n",
      "Data columns (total 9 columns):\n",
      " #   Column                    Non-Null Count  Dtype  \n",
      "---  ------                    --------------  -----  \n",
      " 0   Pregnancies               768 non-null    int64  \n",
      " 1   Glucose                   768 non-null    int64  \n",
      " 2   BloodPressure             768 non-null    int64  \n",
      " 3   SkinThickness             768 non-null    int64  \n",
      " 4   Insulin                   768 non-null    int64  \n",
      " 5   BMI                       768 non-null    float64\n",
      " 6   DiabetesPedigreeFunction  768 non-null    float64\n",
      " 7   Age                       768 non-null    int64  \n",
      " 8   Outcome                   768 non-null    int64  \n",
      "dtypes: float64(2), int64(7)\n",
      "memory usage: 54.1 KB\n"
     ]
    }
   ],
   "source": [
    "#getting the information about the dataset\n",
    "Diabetes_dataset.info()"
   ]
  },
  {
   "cell_type": "code",
   "execution_count": 9,
   "id": "c0e03fef",
   "metadata": {},
   "outputs": [
    {
     "data": {
      "text/html": [
       "<div>\n",
       "<style scoped>\n",
       "    .dataframe tbody tr th:only-of-type {\n",
       "        vertical-align: middle;\n",
       "    }\n",
       "\n",
       "    .dataframe tbody tr th {\n",
       "        vertical-align: top;\n",
       "    }\n",
       "\n",
       "    .dataframe thead th {\n",
       "        text-align: right;\n",
       "    }\n",
       "</style>\n",
       "<table border=\"1\" class=\"dataframe\">\n",
       "  <thead>\n",
       "    <tr style=\"text-align: right;\">\n",
       "      <th></th>\n",
       "      <th>Pregnancies</th>\n",
       "      <th>Glucose</th>\n",
       "      <th>BloodPressure</th>\n",
       "      <th>SkinThickness</th>\n",
       "      <th>Insulin</th>\n",
       "      <th>BMI</th>\n",
       "      <th>DiabetesPedigreeFunction</th>\n",
       "      <th>Age</th>\n",
       "      <th>Outcome</th>\n",
       "    </tr>\n",
       "  </thead>\n",
       "  <tbody>\n",
       "    <tr>\n",
       "      <th>0</th>\n",
       "      <td>False</td>\n",
       "      <td>False</td>\n",
       "      <td>False</td>\n",
       "      <td>False</td>\n",
       "      <td>False</td>\n",
       "      <td>False</td>\n",
       "      <td>False</td>\n",
       "      <td>False</td>\n",
       "      <td>False</td>\n",
       "    </tr>\n",
       "    <tr>\n",
       "      <th>1</th>\n",
       "      <td>False</td>\n",
       "      <td>False</td>\n",
       "      <td>False</td>\n",
       "      <td>False</td>\n",
       "      <td>False</td>\n",
       "      <td>False</td>\n",
       "      <td>False</td>\n",
       "      <td>False</td>\n",
       "      <td>False</td>\n",
       "    </tr>\n",
       "    <tr>\n",
       "      <th>2</th>\n",
       "      <td>False</td>\n",
       "      <td>False</td>\n",
       "      <td>False</td>\n",
       "      <td>False</td>\n",
       "      <td>False</td>\n",
       "      <td>False</td>\n",
       "      <td>False</td>\n",
       "      <td>False</td>\n",
       "      <td>False</td>\n",
       "    </tr>\n",
       "    <tr>\n",
       "      <th>3</th>\n",
       "      <td>False</td>\n",
       "      <td>False</td>\n",
       "      <td>False</td>\n",
       "      <td>False</td>\n",
       "      <td>False</td>\n",
       "      <td>False</td>\n",
       "      <td>False</td>\n",
       "      <td>False</td>\n",
       "      <td>False</td>\n",
       "    </tr>\n",
       "    <tr>\n",
       "      <th>4</th>\n",
       "      <td>False</td>\n",
       "      <td>False</td>\n",
       "      <td>False</td>\n",
       "      <td>False</td>\n",
       "      <td>False</td>\n",
       "      <td>False</td>\n",
       "      <td>False</td>\n",
       "      <td>False</td>\n",
       "      <td>False</td>\n",
       "    </tr>\n",
       "    <tr>\n",
       "      <th>...</th>\n",
       "      <td>...</td>\n",
       "      <td>...</td>\n",
       "      <td>...</td>\n",
       "      <td>...</td>\n",
       "      <td>...</td>\n",
       "      <td>...</td>\n",
       "      <td>...</td>\n",
       "      <td>...</td>\n",
       "      <td>...</td>\n",
       "    </tr>\n",
       "    <tr>\n",
       "      <th>763</th>\n",
       "      <td>False</td>\n",
       "      <td>False</td>\n",
       "      <td>False</td>\n",
       "      <td>False</td>\n",
       "      <td>False</td>\n",
       "      <td>False</td>\n",
       "      <td>False</td>\n",
       "      <td>False</td>\n",
       "      <td>False</td>\n",
       "    </tr>\n",
       "    <tr>\n",
       "      <th>764</th>\n",
       "      <td>False</td>\n",
       "      <td>False</td>\n",
       "      <td>False</td>\n",
       "      <td>False</td>\n",
       "      <td>False</td>\n",
       "      <td>False</td>\n",
       "      <td>False</td>\n",
       "      <td>False</td>\n",
       "      <td>False</td>\n",
       "    </tr>\n",
       "    <tr>\n",
       "      <th>765</th>\n",
       "      <td>False</td>\n",
       "      <td>False</td>\n",
       "      <td>False</td>\n",
       "      <td>False</td>\n",
       "      <td>False</td>\n",
       "      <td>False</td>\n",
       "      <td>False</td>\n",
       "      <td>False</td>\n",
       "      <td>False</td>\n",
       "    </tr>\n",
       "    <tr>\n",
       "      <th>766</th>\n",
       "      <td>False</td>\n",
       "      <td>False</td>\n",
       "      <td>False</td>\n",
       "      <td>False</td>\n",
       "      <td>False</td>\n",
       "      <td>False</td>\n",
       "      <td>False</td>\n",
       "      <td>False</td>\n",
       "      <td>False</td>\n",
       "    </tr>\n",
       "    <tr>\n",
       "      <th>767</th>\n",
       "      <td>False</td>\n",
       "      <td>False</td>\n",
       "      <td>False</td>\n",
       "      <td>False</td>\n",
       "      <td>False</td>\n",
       "      <td>False</td>\n",
       "      <td>False</td>\n",
       "      <td>False</td>\n",
       "      <td>False</td>\n",
       "    </tr>\n",
       "  </tbody>\n",
       "</table>\n",
       "<p>768 rows × 9 columns</p>\n",
       "</div>"
      ],
      "text/plain": [
       "     Pregnancies  Glucose  BloodPressure  SkinThickness  Insulin    BMI  \\\n",
       "0          False    False          False          False    False  False   \n",
       "1          False    False          False          False    False  False   \n",
       "2          False    False          False          False    False  False   \n",
       "3          False    False          False          False    False  False   \n",
       "4          False    False          False          False    False  False   \n",
       "..           ...      ...            ...            ...      ...    ...   \n",
       "763        False    False          False          False    False  False   \n",
       "764        False    False          False          False    False  False   \n",
       "765        False    False          False          False    False  False   \n",
       "766        False    False          False          False    False  False   \n",
       "767        False    False          False          False    False  False   \n",
       "\n",
       "     DiabetesPedigreeFunction    Age  Outcome  \n",
       "0                       False  False    False  \n",
       "1                       False  False    False  \n",
       "2                       False  False    False  \n",
       "3                       False  False    False  \n",
       "4                       False  False    False  \n",
       "..                        ...    ...      ...  \n",
       "763                     False  False    False  \n",
       "764                     False  False    False  \n",
       "765                     False  False    False  \n",
       "766                     False  False    False  \n",
       "767                     False  False    False  \n",
       "\n",
       "[768 rows x 9 columns]"
      ]
     },
     "execution_count": 9,
     "metadata": {},
     "output_type": "execute_result"
    }
   ],
   "source": [
    "#checking the null values \n",
    "Diabetes_dataset.isnull()"
   ]
  },
  {
   "cell_type": "code",
   "execution_count": 10,
   "id": "3e28a1e3",
   "metadata": {},
   "outputs": [
    {
     "data": {
      "text/plain": [
       "Pregnancies                   int64\n",
       "Glucose                       int64\n",
       "BloodPressure                 int64\n",
       "SkinThickness                 int64\n",
       "Insulin                       int64\n",
       "BMI                         float64\n",
       "DiabetesPedigreeFunction    float64\n",
       "Age                           int64\n",
       "Outcome                       int64\n",
       "dtype: object"
      ]
     },
     "execution_count": 10,
     "metadata": {},
     "output_type": "execute_result"
    }
   ],
   "source": [
    "#checking the datatypes as per python\n",
    "Diabetes_dataset.dtypes"
   ]
  },
  {
   "cell_type": "markdown",
   "id": "d76e41ae",
   "metadata": {},
   "source": [
    "#### Data types of variables of the dataset in statistically:\n",
    "\n",
    "1.Pregnancies: quantitative data(discrete)\n",
    "\n",
    "2.Glucose:  quantitative data(continuous)\n",
    "\n",
    "3.Blood Pressure: quantitative data(continuous)\n",
    "\n",
    "4.Skin Thickness:  quantitative data(continuous)\n",
    "\n",
    "5.Insulin: quantitative data(continuous)\n",
    "\n",
    "6.BMI: quantitative data (continuous)\n",
    "\n",
    "7.Diabetes Pedigree Function: quantitative data(continuous)\n",
    "\n",
    "8.Age: quantitative data(continuous)\n",
    "\n",
    "9.Outcome: qualititative data (nominal)\n",
    "\n"
   ]
  },
  {
   "cell_type": "markdown",
   "id": "59b4e063",
   "metadata": {},
   "source": [
    "#### Measures of central tendency for Glucose and outcome column "
   ]
  },
  {
   "cell_type": "code",
   "execution_count": 11,
   "id": "5fc42c5c",
   "metadata": {},
   "outputs": [
    {
     "data": {
      "text/plain": [
       "120.89453125"
      ]
     },
     "execution_count": 11,
     "metadata": {},
     "output_type": "execute_result"
    }
   ],
   "source": [
    "# Measures of central tendency for numerical variable are mean ,median,mode\n",
    "Diabetes_dataset[\"Glucose\"].mean()\n"
   ]
  },
  {
   "cell_type": "code",
   "execution_count": 12,
   "id": "63b56a84",
   "metadata": {},
   "outputs": [
    {
     "data": {
      "text/plain": [
       "117.0"
      ]
     },
     "execution_count": 12,
     "metadata": {},
     "output_type": "execute_result"
    }
   ],
   "source": [
    "Diabetes_dataset[\"Glucose\"].median()"
   ]
  },
  {
   "cell_type": "code",
   "execution_count": 13,
   "id": "cb61410a",
   "metadata": {},
   "outputs": [
    {
     "data": {
      "text/plain": [
       "0     99\n",
       "1    100\n",
       "dtype: int64"
      ]
     },
     "execution_count": 13,
     "metadata": {},
     "output_type": "execute_result"
    }
   ],
   "source": [
    "Diabetes_dataset[\"Glucose\"].mode()\n"
   ]
  },
  {
   "cell_type": "code",
   "execution_count": 14,
   "id": "bf2178b9",
   "metadata": {},
   "outputs": [
    {
     "data": {
      "text/plain": [
       "0    0\n",
       "dtype: int64"
      ]
     },
     "execution_count": 14,
     "metadata": {},
     "output_type": "execute_result"
    }
   ],
   "source": [
    "# Measures of central tendency for categorical variable is only mode\n",
    "Diabetes_dataset[\"Outcome\"].mode()"
   ]
  },
  {
   "cell_type": "markdown",
   "id": "b0e1946e",
   "metadata": {},
   "source": [
    "#### 5 points data summaries for required columns"
   ]
  },
  {
   "cell_type": "code",
   "execution_count": 15,
   "id": "09302e37",
   "metadata": {},
   "outputs": [
    {
     "data": {
      "text/plain": [
       "Index(['Pregnancies', 'Glucose', 'BloodPressure', 'SkinThickness', 'Insulin',\n",
       "       'BMI', 'DiabetesPedigreeFunction', 'Age', 'Outcome'],\n",
       "      dtype='object')"
      ]
     },
     "execution_count": 15,
     "metadata": {},
     "output_type": "execute_result"
    }
   ],
   "source": [
    "#5 point data summaries : The minimum value (the lowest value),25th Percentile or Q1 ,50th Percentile or Q2 or Median,75th Percentile or Q3,\n",
    "#Maximum Value (the highest value)\n",
    "\n",
    "#checking all variable names\n",
    "Diabetes_dataset.columns"
   ]
  },
  {
   "cell_type": "code",
   "execution_count": 16,
   "id": "0e195896",
   "metadata": {},
   "outputs": [
    {
     "data": {
      "text/html": [
       "<div>\n",
       "<style scoped>\n",
       "    .dataframe tbody tr th:only-of-type {\n",
       "        vertical-align: middle;\n",
       "    }\n",
       "\n",
       "    .dataframe tbody tr th {\n",
       "        vertical-align: top;\n",
       "    }\n",
       "\n",
       "    .dataframe thead th {\n",
       "        text-align: right;\n",
       "    }\n",
       "</style>\n",
       "<table border=\"1\" class=\"dataframe\">\n",
       "  <thead>\n",
       "    <tr style=\"text-align: right;\">\n",
       "      <th></th>\n",
       "      <th>Pregnancies</th>\n",
       "      <th>Glucose</th>\n",
       "      <th>BloodPressure</th>\n",
       "      <th>SkinThickness</th>\n",
       "      <th>Insulin</th>\n",
       "      <th>BMI</th>\n",
       "      <th>DiabetesPedigreeFunction</th>\n",
       "      <th>Age</th>\n",
       "    </tr>\n",
       "  </thead>\n",
       "  <tbody>\n",
       "    <tr>\n",
       "      <th>count</th>\n",
       "      <td>768.000000</td>\n",
       "      <td>768.000000</td>\n",
       "      <td>768.000000</td>\n",
       "      <td>768.000000</td>\n",
       "      <td>768.000000</td>\n",
       "      <td>768.000000</td>\n",
       "      <td>768.000000</td>\n",
       "      <td>768.000000</td>\n",
       "    </tr>\n",
       "    <tr>\n",
       "      <th>mean</th>\n",
       "      <td>3.845052</td>\n",
       "      <td>120.894531</td>\n",
       "      <td>69.105469</td>\n",
       "      <td>20.536458</td>\n",
       "      <td>79.799479</td>\n",
       "      <td>31.992578</td>\n",
       "      <td>0.471876</td>\n",
       "      <td>33.240885</td>\n",
       "    </tr>\n",
       "    <tr>\n",
       "      <th>std</th>\n",
       "      <td>3.369578</td>\n",
       "      <td>31.972618</td>\n",
       "      <td>19.355807</td>\n",
       "      <td>15.952218</td>\n",
       "      <td>115.244002</td>\n",
       "      <td>7.884160</td>\n",
       "      <td>0.331329</td>\n",
       "      <td>11.760232</td>\n",
       "    </tr>\n",
       "    <tr>\n",
       "      <th>min</th>\n",
       "      <td>0.000000</td>\n",
       "      <td>0.000000</td>\n",
       "      <td>0.000000</td>\n",
       "      <td>0.000000</td>\n",
       "      <td>0.000000</td>\n",
       "      <td>0.000000</td>\n",
       "      <td>0.078000</td>\n",
       "      <td>21.000000</td>\n",
       "    </tr>\n",
       "    <tr>\n",
       "      <th>25%</th>\n",
       "      <td>1.000000</td>\n",
       "      <td>99.000000</td>\n",
       "      <td>62.000000</td>\n",
       "      <td>0.000000</td>\n",
       "      <td>0.000000</td>\n",
       "      <td>27.300000</td>\n",
       "      <td>0.243750</td>\n",
       "      <td>24.000000</td>\n",
       "    </tr>\n",
       "    <tr>\n",
       "      <th>50%</th>\n",
       "      <td>3.000000</td>\n",
       "      <td>117.000000</td>\n",
       "      <td>72.000000</td>\n",
       "      <td>23.000000</td>\n",
       "      <td>30.500000</td>\n",
       "      <td>32.000000</td>\n",
       "      <td>0.372500</td>\n",
       "      <td>29.000000</td>\n",
       "    </tr>\n",
       "    <tr>\n",
       "      <th>75%</th>\n",
       "      <td>6.000000</td>\n",
       "      <td>140.250000</td>\n",
       "      <td>80.000000</td>\n",
       "      <td>32.000000</td>\n",
       "      <td>127.250000</td>\n",
       "      <td>36.600000</td>\n",
       "      <td>0.626250</td>\n",
       "      <td>41.000000</td>\n",
       "    </tr>\n",
       "    <tr>\n",
       "      <th>max</th>\n",
       "      <td>17.000000</td>\n",
       "      <td>199.000000</td>\n",
       "      <td>122.000000</td>\n",
       "      <td>99.000000</td>\n",
       "      <td>846.000000</td>\n",
       "      <td>67.100000</td>\n",
       "      <td>2.420000</td>\n",
       "      <td>81.000000</td>\n",
       "    </tr>\n",
       "  </tbody>\n",
       "</table>\n",
       "</div>"
      ],
      "text/plain": [
       "       Pregnancies     Glucose  BloodPressure  SkinThickness     Insulin  \\\n",
       "count   768.000000  768.000000     768.000000     768.000000  768.000000   \n",
       "mean      3.845052  120.894531      69.105469      20.536458   79.799479   \n",
       "std       3.369578   31.972618      19.355807      15.952218  115.244002   \n",
       "min       0.000000    0.000000       0.000000       0.000000    0.000000   \n",
       "25%       1.000000   99.000000      62.000000       0.000000    0.000000   \n",
       "50%       3.000000  117.000000      72.000000      23.000000   30.500000   \n",
       "75%       6.000000  140.250000      80.000000      32.000000  127.250000   \n",
       "max      17.000000  199.000000     122.000000      99.000000  846.000000   \n",
       "\n",
       "              BMI  DiabetesPedigreeFunction         Age  \n",
       "count  768.000000                768.000000  768.000000  \n",
       "mean    31.992578                  0.471876   33.240885  \n",
       "std      7.884160                  0.331329   11.760232  \n",
       "min      0.000000                  0.078000   21.000000  \n",
       "25%     27.300000                  0.243750   24.000000  \n",
       "50%     32.000000                  0.372500   29.000000  \n",
       "75%     36.600000                  0.626250   41.000000  \n",
       "max     67.100000                  2.420000   81.000000  "
      ]
     },
     "execution_count": 16,
     "metadata": {},
     "output_type": "execute_result"
    }
   ],
   "source": [
    "#Categorical data is a collection of information that is divided into groups.Categorical data can take on numerical values\n",
    "#such as 0,1 but those numbers don't have mathematical meaning.\n",
    "\n",
    "#so in Diabetes dataset \"Outcome\" variable is categorical data so 5 point data summary is not required.\n",
    "\n",
    "Diabetes_dataset_5pointsdatasummaries = Diabetes_dataset[['Pregnancies', 'Glucose', 'BloodPressure', 'SkinThickness', 'Insulin',\n",
    "       'BMI', 'DiabetesPedigreeFunction', 'Age']]\n",
    "Diabetes_dataset_5pointsdatasummaries.describe()"
   ]
  },
  {
   "cell_type": "markdown",
   "id": "a4af8478",
   "metadata": {},
   "source": [
    "#### creating an appropriate plot to examine the relationship between Age and Glucose"
   ]
  },
  {
   "cell_type": "code",
   "execution_count": 17,
   "id": "66bd9953",
   "metadata": {},
   "outputs": [
    {
     "data": {
      "text/plain": [
       "<AxesSubplot:title={'center':'Relationship between Age and Glucose'}, xlabel='Age', ylabel='Glucose'>"
      ]
     },
     "execution_count": 17,
     "metadata": {},
     "output_type": "execute_result"
    },
    {
     "data": {
      "image/png": "[encoded data removed]",
      "text/plain": [
       "<Figure size 432x288 with 1 Axes>"
      ]
     },
     "metadata": {
      "needs_background": "light"
     },
     "output_type": "display_data"
    }
   ],
   "source": [
    "#displaying title of the graph\n",
    "plt.title(\"Relationship between Age and Glucose\")\n",
    "#using scatterplot we can see the relationship between two numerical variables\n",
    "sns.scatterplot(x=\"Age\",y=\"Glucose\",hue=\"BMI\",data=Diabetes_dataset)"
   ]
  },
  {
   "cell_type": "markdown",
   "id": "6939f194",
   "metadata": {},
   "source": [
    "In the above scatter plot we can see majarity of people between age 20 to 50 yrs with glucose levels betwen 75 to 150 md/dl with BMI 30."
   ]
  },
  {
   "cell_type": "markdown",
   "id": "2d5d7ec5",
   "metadata": {},
   "source": [
    "#### creation an appropriate plot to see the distribution of Outcome variable"
   ]
  },
  {
   "cell_type": "code",
   "execution_count": 18,
   "id": "ecaba290",
   "metadata": {},
   "outputs": [
    {
     "data": {
      "image/png": "[encoded data removed]",
      "text/plain": [
       "<Figure size 720x504 with 1 Axes>"
      ]
     },
     "metadata": {},
     "output_type": "display_data"
    }
   ],
   "source": [
    "honors = Diabetes_dataset['Outcome'].value_counts()\n",
    "honors\n",
    "category = ['no','yes']\n",
    "fig = plt.figure(figsize = (10,7))\n",
    "plt.pie(honors,labels=category,autopct = '%1.1f%%',shadow = True,startangle=90)\n",
    "plt.show()\n"
   ]
  },
  {
   "cell_type": "markdown",
   "id": "5e11a7ca",
   "metadata": {},
   "source": [
    "In the above chart we can see 65.1% people are non diabetic while 34.9% people are diabetic ."
   ]
  },
  {
   "cell_type": "markdown",
   "id": "c3eb1dc7",
   "metadata": {},
   "source": [
    "#### Examing the distribution of numerical data and explain which variable normally distributed and which variable is seems to be skewed and the direction of skewness."
   ]
  },
  {
   "cell_type": "code",
   "execution_count": 19,
   "id": "376a459b",
   "metadata": {},
   "outputs": [
    {
     "data": {
      "text/plain": [
       "<AxesSubplot:title={'center':'Distribution of age'}, xlabel='Age', ylabel='Count'>"
      ]
     },
     "execution_count": 19,
     "metadata": {},
     "output_type": "execute_result"
    },
    {
     "data": {
      "image/png": "[encoded data removed]",
      "text/plain": [
       "<Figure size 1080x720 with 4 Axes>"
      ]
     },
     "metadata": {
      "needs_background": "light"
     },
     "output_type": "display_data"
    },
    {
     "data": {
      "image/png": "[encoded data removed]",
      "text/plain": [
       "<Figure size 1080x720 with 4 Axes>"
      ]
     },
     "metadata": {
      "needs_background": "light"
     },
     "output_type": "display_data"
    }
   ],
   "source": [
    "# creating a figure with size\n",
    "plt.figure(figsize=(15,10))\n",
    "#using subplot\n",
    "plt.subplot(2,2,1)\n",
    "#giving title for the graph\n",
    "plt.title(\"Distribution of Pregnancies\")\n",
    "#displaying the histogram\n",
    "sns.histplot(Diabetes_dataset,x=\"Pregnancies\",color='gray',kde=True)\n",
    "\n",
    "\n",
    "plt.subplot(2,2,2)\n",
    "plt.title(\"Distribution of Glucose\")\n",
    "sns.histplot(Diabetes_dataset,x=\"Glucose\",color='red',kde=True)\n",
    "\n",
    "#Variable BloodPressure having more null values and outliers so here replacing null values with median.\n",
    "plt.subplot(2,2,3)\n",
    "plt.title(\"Distribution of Blood Pressure\")\n",
    "Diabetes_dataset['BloodPressure'].fillna(value=Diabetes_dataset['BloodPressure'].mean(), inplace=True)\n",
    "sns.histplot(Diabetes_dataset,x=\"BloodPressure\",color='pink',kde=True)\n",
    "\n",
    "# Variable SkinThickness is having more null values so here replacing null values with mean.\n",
    "plt.subplot(2,2,4)\n",
    "plt.title(\"Distribution of SkinThickness\")\n",
    "Diabetes_dataset['SkinThickness'].fillna(value=Diabetes_dataset['SkinThickness'].mean(), inplace=True)\n",
    "sns.histplot(Diabetes_dataset,x=\"SkinThickness\",color='yellow',kde=True)\n",
    "\n",
    "plt.figure(figsize=(15,10))\n",
    "#Variable Insulin is having more null values  and outliers so here replacing null values with median.\n",
    "plt.subplot(2,2,1)\n",
    "plt.title(\"Distribution of Insulin\")\n",
    "Diabetes_dataset['Insulin'].fillna(value=Diabetes_dataset['Insulin'].median(), inplace=True)\n",
    "sns.histplot(Diabetes_dataset,x=\"Insulin\",color='black',kde=True)\n",
    "\n",
    "\n",
    "plt.subplot(2,2,2)\n",
    "plt.title(\"Distribution of Body Mass Index\")\n",
    "sns.histplot(Diabetes_dataset,x=\"BMI\",color='orange',kde=True)\n",
    "\n",
    "\n",
    "plt.subplot(2,2,3)\n",
    "plt.title(\"Distribution of DiabetesPedigreeFunction\")\n",
    "sns.histplot(Diabetes_dataset,x=\"DiabetesPedigreeFunction\",color='brown',kde=True)\n",
    "\n",
    "plt.subplot(2,2,4)\n",
    "plt.title(\"Distribution of age\")\n",
    "sns.histplot(Diabetes_dataset,x=\"Age\",color='green',kde=True)\n",
    "\n",
    "\n"
   ]
  },
  {
   "cell_type": "markdown",
   "id": "819d9d19",
   "metadata": {},
   "source": [
    "Variables distribution : \n",
    "         \n",
    "\"Pregnacies\" are skwed towords right,\n",
    "\"Glucose\" is symmetric,\n",
    "\"BloodPressure\" is skwed towords left,\n",
    "\"SkinThickness\" is symmetric,\n",
    "\"Insulin\" is skwed towords right,\n",
    "\"BMI\" is symmetric,\n",
    "\"Diabetespedigreefunction\" is skwed towords right,\n",
    "\"Age\" is skwed towords right"
   ]
  },
  {
   "cell_type": "markdown",
   "id": "ec659a9e",
   "metadata": {},
   "source": [
    "#### calculating the skewness value and divide variables into symmetrical, moderately skewed and highly skewed"
   ]
  },
  {
   "cell_type": "code",
   "execution_count": 50,
   "id": "fb0614b6",
   "metadata": {},
   "outputs": [
    {
     "data": {
      "text/plain": [
       "0.9016739791518588"
      ]
     },
     "execution_count": 50,
     "metadata": {},
     "output_type": "execute_result"
    }
   ],
   "source": [
    "Diabetes_dataset['Pregnancies'].skew()\n",
    "#moderately skewed towords right"
   ]
  },
  {
   "cell_type": "code",
   "execution_count": 49,
   "id": "ff3068c9",
   "metadata": {},
   "outputs": [
    {
     "data": {
      "text/plain": [
       "0.17375350179188992"
      ]
     },
     "execution_count": 49,
     "metadata": {},
     "output_type": "execute_result"
    }
   ],
   "source": [
    "Diabetes_dataset['Glucose'].skew()\n",
    "#symmetrical data"
   ]
  },
  {
   "cell_type": "code",
   "execution_count": 48,
   "id": "cd330786",
   "metadata": {},
   "outputs": [
    {
     "data": {
      "text/plain": [
       "-1.8436079833551302"
      ]
     },
     "execution_count": 48,
     "metadata": {},
     "output_type": "execute_result"
    }
   ],
   "source": [
    "Diabetes_dataset['BloodPressure'].skew()\n",
    "#highly skewed towords left"
   ]
  },
  {
   "cell_type": "code",
   "execution_count": 47,
   "id": "9ea54b1e",
   "metadata": {},
   "outputs": [
    {
     "data": {
      "text/plain": [
       "0.10937249648187608"
      ]
     },
     "execution_count": 47,
     "metadata": {},
     "output_type": "execute_result"
    }
   ],
   "source": [
    "Diabetes_dataset['SkinThickness'].skew()\n",
    "#symmetrical data"
   ]
  },
  {
   "cell_type": "code",
   "execution_count": 46,
   "id": "b2f2addd",
   "metadata": {},
   "outputs": [
    {
     "data": {
      "text/plain": [
       "2.272250858431574"
      ]
     },
     "execution_count": 46,
     "metadata": {},
     "output_type": "execute_result"
    }
   ],
   "source": [
    "Diabetes_dataset['Insulin'].skew()\n",
    "#highly skewed towords right"
   ]
  },
  {
   "cell_type": "code",
   "execution_count": 45,
   "id": "050bcfa8",
   "metadata": {},
   "outputs": [
    {
     "data": {
      "text/plain": [
       "-0.42898158845356543"
      ]
     },
     "execution_count": 45,
     "metadata": {},
     "output_type": "execute_result"
    }
   ],
   "source": [
    "Diabetes_dataset['BMI'].skew()\n",
    "#symetric data"
   ]
  },
  {
   "cell_type": "code",
   "execution_count": 44,
   "id": "e2cb895c",
   "metadata": {},
   "outputs": [
    {
     "data": {
      "text/plain": [
       "1.919911066307204"
      ]
     },
     "execution_count": 44,
     "metadata": {},
     "output_type": "execute_result"
    }
   ],
   "source": [
    "Diabetes_dataset['DiabetesPedigreeFunction'].skew()\n",
    "#highly skewed towords right"
   ]
  },
  {
   "cell_type": "code",
   "execution_count": 42,
   "id": "e5fd6bfe",
   "metadata": {},
   "outputs": [
    {
     "data": {
      "text/plain": [
       "1.1295967011444805"
      ]
     },
     "execution_count": 42,
     "metadata": {},
     "output_type": "execute_result"
    }
   ],
   "source": [
    "Diabetes_dataset['Age'].skew()\n",
    "#highly skewed towords right"
   ]
  },
  {
   "cell_type": "code",
   "execution_count": 41,
   "id": "36d35b7c",
   "metadata": {},
   "outputs": [
    {
     "data": {
      "text/plain": [
       "0.635016643444986"
      ]
     },
     "execution_count": 41,
     "metadata": {},
     "output_type": "execute_result"
    }
   ],
   "source": [
    "Diabetes_dataset['Outcome'].skew()\n",
    "#symetric data"
   ]
  },
  {
   "cell_type": "markdown",
   "id": "730f28b3",
   "metadata": {},
   "source": [
    "#### creating appropriate plot to examine the outliers of these variables. Please name the variables which have outliers"
   ]
  },
  {
   "cell_type": "code",
   "execution_count": 20,
   "id": "c18e4d33",
   "metadata": {},
   "outputs": [
    {
     "data": {
      "text/plain": [
       "<AxesSubplot:xlabel='Age'>"
      ]
     },
     "execution_count": 20,
     "metadata": {},
     "output_type": "execute_result"
    },
    {
     "data": {
      "image/png": "[encoded data removed]",
      "text/plain": [
       "<Figure size 1080x720 with 4 Axes>"
      ]
     },
     "metadata": {
      "needs_background": "light"
     },
     "output_type": "display_data"
    },
    {
     "data": {
      "image/png": "[encoded data removed]",
      "text/plain": [
       "<Figure size 1080x720 with 4 Axes>"
      ]
     },
     "metadata": {
      "needs_background": "light"
     },
     "output_type": "display_data"
    }
   ],
   "source": [
    "#creating a figure with size\n",
    "plt.figure(figsize=(15,10))\n",
    "#creating a subplot\n",
    "plt.subplot(2,2,1)\n",
    "#displaying the boxplot\n",
    "sns.boxplot(x ='Pregnancies',data =Diabetes_dataset)\n",
    "\n",
    "\n",
    "plt.subplot(2,2,2)\n",
    "sns.boxplot(x ='Glucose',data =Diabetes_dataset)\n",
    "\n",
    "plt.subplot(2,2,3)\n",
    "sns.boxplot(x ='BloodPressure',data =Diabetes_dataset)\n",
    "\n",
    "plt.subplot(2,2,4)\n",
    "sns.boxplot(x ='SkinThickness',data =Diabetes_dataset,showmeans=True)\n",
    "\n",
    "plt.figure(figsize=(15,10))\n",
    "\n",
    "plt.subplot(2,2,1)\n",
    "sns.boxplot(x ='Insulin',data =Diabetes_dataset,showmeans=True)\n",
    "\n",
    "\n",
    "plt.subplot(2,2,2)\n",
    "sns.boxplot(x ='BMI',data =Diabetes_dataset,showmeans=True)\n",
    "\n",
    "\n",
    "plt.subplot(2,2,3)\n",
    "sns.boxplot(x ='DiabetesPedigreeFunction',data =Diabetes_dataset)\n",
    "\n",
    "plt.subplot(2,2,4)\n",
    "sns.boxplot(x ='Age',data =Diabetes_dataset)\n",
    "\n"
   ]
  },
  {
   "cell_type": "markdown",
   "id": "9b87c0b8",
   "metadata": {},
   "source": [
    "\n",
    "variables 'Pregnancies', 'Glucose', 'BloodPressure','BMI', 'DiabetesPedigreeFunction', 'Age' having outliers"
   ]
  },
  {
   "cell_type": "markdown",
   "id": "03a33f8f",
   "metadata": {},
   "source": [
    "#### Measures of central tendency and dispersion for skewed data:"
   ]
  },
  {
   "cell_type": "markdown",
   "id": "e4ce73c7",
   "metadata": {},
   "source": [
    "Median is the  robust measure of central tendency for  skewed data\n",
    "Inter Quartile Range (IQR) is the robust(which will not effected by outliers) measure of dispersion for skewed data"
   ]
  }
 ],
 "metadata": {
  "kernelspec": {
   "display_name": "Python 3 (ipykernel)",
   "language": "python",
   "name": "python3"
  },
  "language_info": {
   "codemirror_mode": {
    "name": "ipython",
    "version": 3
   },
   "file_extension": ".py",
   "mimetype": "text/x-python",
   "name": "python",
   "nbconvert_exporter": "python",
   "pygments_lexer": "ipython3",
   "version": "3.9.7"
  }
 },
 "nbformat": 4,
 "nbformat_minor": 5
}
